{
  "nbformat": 4,
  "nbformat_minor": 0,
  "metadata": {
    "colab": {
      "provenance": []
    },
    "kernelspec": {
      "name": "python3",
      "display_name": "Python 3"
    },
    "language_info": {
      "name": "python"
    }
  },
  "cells": [
    {
      "cell_type": "code",
      "execution_count": null,
      "metadata": {
        "id": "hcAKhROV24un"
      },
      "outputs": [],
      "source": [
        "import requests\n",
        "from bs4 import BeautifulSoup\n",
        "import pandas as pd"
      ]
    },
    {
      "cell_type": "code",
      "source": [
        "url = \"https://en.wikipedia.org/wiki/List_of_European_cities_by_population_within_city_limits\"\n",
        "\n",
        "# Send an HTTP GET request to the URL\n",
        "response = requests.get(url)\n",
        "\n",
        "# Check if the request was successful (status code 200)\n",
        "if response.status_code == 200:\n",
        "    # Parse the HTML content using Beautiful Soup\n",
        "    soup = BeautifulSoup(response.content, \"html.parser\")\n",
        "\n",
        "    # Do whatever you want with the parsed HTML data\n",
        "    # For example, you can print the page title\n",
        "    print(soup.title.text)\n",
        "\n",
        "    # Or find specific elements on the page using their HTML tags, classes, or IDs\n",
        "    # For example, find all the table rows in the page\n",
        "    table_rows = soup.find_all(\"tr\")\n",
        "\n",
        "    # Process the table rows as per your requirements\n",
        "\n",
        "else:\n",
        "    print(\"Failed to retrieve the webpage.\")\n",
        "\n"
      ],
      "metadata": {
        "colab": {
          "base_uri": "https://localhost:8080/"
        },
        "id": "Xv2ALC5b3nx6",
        "outputId": "95988aa7-2800-4140-bca0-f0f1537699b8"
      },
      "execution_count": null,
      "outputs": [
        {
          "output_type": "stream",
          "name": "stdout",
          "text": [
            "List of European cities by population within city limits - Wikipedia\n"
          ]
        }
      ]
    },
    {
      "cell_type": "markdown",
      "source": [
        "This next code retrieves the HTML content from the Wikipedia page, finds the table containing the city information, and iterates through the rows. It extracts the city name, country, population, latitude, and longitude using CSS selectors and stores them in the cities_dict dictionary.\n",
        "\n",
        "After iterating through the rows, the code creates a pandas DataFrame directly from the cities_dict dictionary using pd.DataFrame(). The DataFrame includes columns for city, country, population, latitude, and longitude.\n",
        "\n",
        "Now, whenever the URL updates, you can run this code to automatically create an updated DataFrame with the extracted information.\n",
        "\n",
        "Please note that the code assumes the structure and CSS classes of the table on the Wikipedia page remain the same. If there are any changes in the HTML structure or class names, the code may need to be adjusted accordingly.\n"
      ],
      "metadata": {
        "id": "Vgk2qBs0_HyW"
      }
    },
    {
      "cell_type": "code",
      "source": [
        "# Send an HTTP GET request to the URL\n",
        "response = requests.get(url)\n",
        "\n",
        "# Check if the request was successful (status code 200)\n",
        "if response.status_code == 200:\n",
        "    # Parse the HTML content using Beautiful Soup\n",
        "    soup = BeautifulSoup(response.content, \"html.parser\")\n",
        "\n",
        "    cities_dict = {\n",
        "        'city': [],\n",
        "        'country': [],\n",
        "        'population': [],\n",
        "        'lat': [],\n",
        "        'long': []\n",
        "    }\n",
        "\n",
        "    for i, row in enumerate(soup.select(\"table.wikitable tr\")):\n",
        "        if i == 0:\n",
        "            continue\n",
        "        cities_dict['city'].append(row.select('td a')[0].get_text())\n",
        "        cities_dict['country'].append(row.select('td')[2].select_one('a').get_text())\n",
        "        pop_str = row.select('td')[3].select_one('span').get_text()\n",
        "        cities_dict['population'].append(int(pop_str.replace(',', '')))\n",
        "        geo = row.select('td')[7].select_one(\"span.geo\").get_text()\n",
        "        geo = geo.split(\";\")\n",
        "        cities_dict['lat'].append(float(geo[0].strip()))\n",
        "        cities_dict['long'].append(float(geo[1].strip()))\n",
        "\n",
        "    # Create a pandas DataFrame with the extracted data\n",
        "    df = pd.DataFrame(cities_dict)\n",
        "\n",
        "    # Print the DataFrame\n",
        "    print(df)\n",
        "\n",
        "else:\n",
        "    print(\"Failed to retrieve the webpage.\")\n"
      ],
      "metadata": {
        "colab": {
          "base_uri": "https://localhost:8080/"
        },
        "id": "LZEbC_fQ-zX8",
        "outputId": "864e8abe-7c93-4bf1-977c-33a0e618b1f0"
      },
      "execution_count": null,
      "outputs": [
        {
          "output_type": "stream",
          "name": "stdout",
          "text": [
            "                city         country  population        lat       long\n",
            "0           Istanbul          Turkey    15907951  41.013611  28.955000\n",
            "1             Moscow          Russia    13104177  55.750000  37.616667\n",
            "2             London  United Kingdom     8799800  51.507222  -0.127500\n",
            "3   Saint Petersburg          Russia     5600044  59.950000  30.300000\n",
            "4             Berlin         Germany     3850809  52.516667  13.383333\n",
            "5             Madrid           Spain     3305408  40.383333  -3.716667\n",
            "6               Kyiv         Ukraine     2952301  50.450000  30.523333\n",
            "7               Rome           Italy     2749031  41.900000  12.500000\n",
            "8          Bucharest         Romania     2162281  44.432500  26.103889\n",
            "9              Paris          France     2102650  48.856700   2.350800\n",
            "10             Minsk         Belarus     1996553  53.900000  27.566667\n",
            "11            Vienna         Austria     1982442  48.200000  16.366667\n",
            "12            Warsaw          Poland     1862345  52.233333  21.016667\n",
            "13           Hamburg         Germany     1853935  53.565278  10.001389\n",
            "14          Budapest         Hungary     1706851  47.492500  19.051389\n",
            "15          Belgrade          Serbia     1688667  44.816667  20.466667\n",
            "16         Barcelona           Spain     1636732  41.383333   2.183333\n",
            "17            Munich         Germany     1487708  48.133333  11.566667\n",
            "18           Kharkiv         Ukraine     1421225  50.004444  36.231389\n",
            "19            Prague  Czech Republic     1357326  50.083333  14.416667\n",
            "20             Milan           Italy     1349930  45.466667   9.183333\n",
            "21             Kazan          Russia     1314685  55.790278  49.134722\n",
            "22             Sofia        Bulgaria     1307439  42.700000  23.330000\n",
            "23   Nizhny Novgorod          Russia     1213477  56.326944  44.007500\n",
            "24           Tbilisi         Georgia     1201769  41.716600  44.783300\n",
            "25            Samara          Russia     1163645  53.202778  50.140833\n",
            "26               Ufa          Russia     1157994  54.750000  55.966667\n",
            "27        Birmingham  United Kingdom     1144900  52.483056  -1.893611\n",
            "28     Rostov-on-Don          Russia     1135968  47.233333  39.700000\n",
            "29         Krasnodar          Russia     1121291  45.033000  38.967000\n",
            "30           Yerevan         Armenia     1092800  40.181000  44.510000\n",
            "31           Cologne         Germany     1073096  50.936389   6.952778\n",
            "32          Voronezh          Russia     1051995  51.671667  39.210556\n",
            "33              Perm          Russia     1027153  58.000000  56.316667\n",
            "34         Volgograd          Russia     1025662  48.700000  44.516667\n",
            "35             Odesa         Ukraine     1010537  46.485000  30.743000\n"
          ]
        }
      ]
    }
  ]
}