{
  "cells": [
    {
      "cell_type": "code",
      "execution_count": null,
      "metadata": {
        "id": "x43Gb6fi6LB7"
      },
      "outputs": [],
      "source": [
        "import requests\n",
        "import json\n",
        "import pandas as pd\n"
      ]
    },
    {
      "cell_type": "markdown",
      "metadata": {
        "id": "aJPgv6rINgv2"
      },
      "source": [
        "Here is the API provided by OpenWeather:\n",
        "\n",
        "API= api.openweathermap.org/data/2.5/forecast?lat={lat}&lon={lon}&appid={API key}"
      ]
    },
    {
      "cell_type": "markdown",
      "metadata": {
        "id": "O5FdCSNdDL4A"
      },
      "source": [
        "# Explore the data received from the API. What’s useful? What’s not?"
      ]
    },
    {
      "cell_type": "markdown",
      "metadata": {
        "id": "Pq_ZwGnTDPWM"
      },
      "source": [
        "### The classic method:\n"
      ]
    },
    {
      "cell_type": "code",
      "execution_count": null,
      "metadata": {
        "colab": {
          "background_save": true
        },
        "id": "XGlLVrQhMkt1"
      },
      "outputs": [],
      "source": [
        "# Parameters:  I chose the parameters of  \"San Francisco\"\n",
        "lat = 37.7749\n",
        "lon = -122.4194\n",
        "api_key = \"97e400f629132d5337dca365db0dc123\""
      ]
    },
    {
      "cell_type": "code",
      "execution_count": null,
      "metadata": {
        "id": "qYoqNpmpMn8d"
      },
      "outputs": [],
      "source": [
        "# To create URL from the API provided by OpenWeather:\n",
        "\n",
        "url = f\"http://api.openweathermap.org/data/2.5/forecast?lat={lat}&lon={lon}&appid={api_key}\""
      ]
    },
    {
      "cell_type": "code",
      "execution_count": null,
      "metadata": {
        "colab": {
          "base_uri": "https://localhost:8080/"
        },
        "id": "qmZ8lZ4CMpYw",
        "outputId": "6de99eb0-7c2d-4743-96fa-ac05b7674972"
      },
      "outputs": [
        {
          "data": {
            "text/plain": [
              "<Response [200]>"
            ]
          },
          "execution_count": 50,
          "metadata": {},
          "output_type": "execute_result"
        }
      ],
      "source": [
        "# To change the response data from the last API call to JSON,\n",
        "response = requests.get(url)\n",
        "response"
      ]
    },
    {
      "cell_type": "code",
      "execution_count": null,
      "metadata": {
        "id": "5f9oooFIMquj"
      },
      "outputs": [],
      "source": [
        "# To convert response data to JSON\n",
        "data = response.json()"
      ]
    },
    {
      "cell_type": "code",
      "execution_count": null,
      "metadata": {
        "colab": {
          "base_uri": "https://localhost:8080/"
        },
        "id": "Io91paFoMr1J",
        "outputId": "8a285d8a-6b43-413a-8edf-bc5eb9f6680d"
      },
      "outputs": [
        {
          "name": "stdout",
          "output_type": "stream",
          "text": [
            "{'cod': '200', 'message': 0, 'cnt': 40, 'list': [{'dt': 1685415600, 'main': {'temp': 288.49, 'feels_like': 288.12, 'temp_min': 287.33, 'temp_max': 288.49, 'pressure': 1014, 'sea_level': 1014, 'grnd_level': 1013, 'humidity': 78, 'temp_kf': 1.16}, 'weather': [{'id': 803, 'main': 'Clouds', 'description': 'broken clouds', 'icon': '04d'}], 'clouds': {'all': 69}, 'wind': {'speed': 4.86, 'deg': 236, 'gust': 6.84}, 'visibility': 10000, 'pop': 0, 'sys': {'pod': 'd'}, 'dt_txt': '2023-05-30 03:00:00'}, {'dt': 1685426400, 'main': {'temp': 287.26, 'feels_like': 286.92, 'temp_min': 286.36, 'temp_max': 287.26, 'pressure': 1014, 'sea_level': 1014, 'grnd_level': 1013, 'humidity': 84, 'temp_kf': 0.9}, 'weather': [{'id': 803, 'main': 'Clouds', 'description': 'broken clouds', 'icon': '04n'}], 'clouds': {'all': 64}, 'wind': {'speed': 3.41, 'deg': 243, 'gust': 5.27}, 'visibility': 10000, 'pop': 0, 'sys': {'pod': 'n'}, 'dt_txt': '2023-05-30 06:00:00'}, {'dt': 1685437200, 'main': {'temp': 285.84, 'feels_like': 285.51, 'temp_min': 285.84, 'temp_max': 285.84, 'pressure': 1014, 'sea_level': 1014, 'grnd_level': 1012, 'humidity': 90, 'temp_kf': 0}, 'weather': [{'id': 802, 'main': 'Clouds', 'description': 'scattered clouds', 'icon': '03n'}], 'clouds': {'all': 31}, 'wind': {'speed': 2.92, 'deg': 237, 'gust': 4.13}, 'visibility': 10000, 'pop': 0, 'sys': {'pod': 'n'}, 'dt_txt': '2023-05-30 09:00:00'}, {'dt': 1685448000, 'main': {'temp': 285.62, 'feels_like': 285.3, 'temp_min': 285.62, 'temp_max': 285.62, 'pressure': 1014, 'sea_level': 1014, 'grnd_level': 1012, 'humidity': 91, 'temp_kf': 0}, 'weather': [{'id': 802, 'main': 'Clouds', 'description': 'scattered clouds', 'icon': '03n'}], 'clouds': {'all': 28}, 'wind': {'speed': 2.53, 'deg': 240, 'gust': 3.39}, 'visibility': 10000, 'pop': 0, 'sys': {'pod': 'n'}, 'dt_txt': '2023-05-30 12:00:00'}, {'dt': 1685458800, 'main': {'temp': 286.9, 'feels_like': 286.5, 'temp_min': 286.9, 'temp_max': 286.9, 'pressure': 1015, 'sea_level': 1015, 'grnd_level': 1013, 'humidity': 83, 'temp_kf': 0}, 'weather': [{'id': 802, 'main': 'Clouds', 'description': 'scattered clouds', 'icon': '03d'}], 'clouds': {'all': 33}, 'wind': {'speed': 3.35, 'deg': 245, 'gust': 4.56}, 'visibility': 10000, 'pop': 0, 'sys': {'pod': 'd'}, 'dt_txt': '2023-05-30 15:00:00'}, {'dt': 1685469600, 'main': {'temp': 288.73, 'feels_like': 288.2, 'temp_min': 288.73, 'temp_max': 288.73, 'pressure': 1015, 'sea_level': 1015, 'grnd_level': 1013, 'humidity': 71, 'temp_kf': 0}, 'weather': [{'id': 802, 'main': 'Clouds', 'description': 'scattered clouds', 'icon': '03d'}], 'clouds': {'all': 27}, 'wind': {'speed': 4.85, 'deg': 246, 'gust': 5.44}, 'visibility': 10000, 'pop': 0, 'sys': {'pod': 'd'}, 'dt_txt': '2023-05-30 18:00:00'}, {'dt': 1685480400, 'main': {'temp': 289.13, 'feels_like': 288.56, 'temp_min': 289.13, 'temp_max': 289.13, 'pressure': 1014, 'sea_level': 1014, 'grnd_level': 1013, 'humidity': 68, 'temp_kf': 0}, 'weather': [{'id': 800, 'main': 'Clear', 'description': 'clear sky', 'icon': '01d'}], 'clouds': {'all': 1}, 'wind': {'speed': 6.36, 'deg': 256, 'gust': 7.33}, 'visibility': 10000, 'pop': 0, 'sys': {'pod': 'd'}, 'dt_txt': '2023-05-30 21:00:00'}, {'dt': 1685491200, 'main': {'temp': 288.35, 'feels_like': 287.78, 'temp_min': 288.35, 'temp_max': 288.35, 'pressure': 1013, 'sea_level': 1013, 'grnd_level': 1011, 'humidity': 71, 'temp_kf': 0}, 'weather': [{'id': 800, 'main': 'Clear', 'description': 'clear sky', 'icon': '01d'}], 'clouds': {'all': 0}, 'wind': {'speed': 6.45, 'deg': 252, 'gust': 8.07}, 'visibility': 10000, 'pop': 0, 'sys': {'pod': 'd'}, 'dt_txt': '2023-05-31 00:00:00'}, {'dt': 1685502000, 'main': {'temp': 286.02, 'feels_like': 285.5, 'temp_min': 286.02, 'temp_max': 286.02, 'pressure': 1014, 'sea_level': 1014, 'grnd_level': 1012, 'humidity': 82, 'temp_kf': 0}, 'weather': [{'id': 801, 'main': 'Clouds', 'description': 'few clouds', 'icon': '02d'}], 'clouds': {'all': 20}, 'wind': {'speed': 5.7, 'deg': 252, 'gust': 7.02}, 'visibility': 10000, 'pop': 0, 'sys': {'pod': 'd'}, 'dt_txt': '2023-05-31 03:00:00'}, {'dt': 1685512800, 'main': {'temp': 285.74, 'feels_like': 285.14, 'temp_min': 285.74, 'temp_max': 285.74, 'pressure': 1013, 'sea_level': 1013, 'grnd_level': 1011, 'humidity': 80, 'temp_kf': 0}, 'weather': [{'id': 803, 'main': 'Clouds', 'description': 'broken clouds', 'icon': '04n'}], 'clouds': {'all': 52}, 'wind': {'speed': 5.73, 'deg': 245, 'gust': 6.81}, 'visibility': 10000, 'pop': 0, 'sys': {'pod': 'n'}, 'dt_txt': '2023-05-31 06:00:00'}, {'dt': 1685523600, 'main': {'temp': 285.2, 'feels_like': 284.55, 'temp_min': 285.2, 'temp_max': 285.2, 'pressure': 1013, 'sea_level': 1013, 'grnd_level': 1011, 'humidity': 80, 'temp_kf': 0}, 'weather': [{'id': 804, 'main': 'Clouds', 'description': 'overcast clouds', 'icon': '04n'}], 'clouds': {'all': 99}, 'wind': {'speed': 5.09, 'deg': 238, 'gust': 6.23}, 'visibility': 10000, 'pop': 0, 'sys': {'pod': 'n'}, 'dt_txt': '2023-05-31 09:00:00'}, {'dt': 1685534400, 'main': {'temp': 285.1, 'feels_like': 284.52, 'temp_min': 285.1, 'temp_max': 285.1, 'pressure': 1012, 'sea_level': 1012, 'grnd_level': 1010, 'humidity': 83, 'temp_kf': 0}, 'weather': [{'id': 804, 'main': 'Clouds', 'description': 'overcast clouds', 'icon': '04n'}], 'clouds': {'all': 94}, 'wind': {'speed': 3.72, 'deg': 215, 'gust': 4.55}, 'visibility': 10000, 'pop': 0, 'sys': {'pod': 'n'}, 'dt_txt': '2023-05-31 12:00:00'}, {'dt': 1685545200, 'main': {'temp': 285.32, 'feels_like': 284.66, 'temp_min': 285.32, 'temp_max': 285.32, 'pressure': 1013, 'sea_level': 1013, 'grnd_level': 1011, 'humidity': 79, 'temp_kf': 0}, 'weather': [{'id': 804, 'main': 'Clouds', 'description': 'overcast clouds', 'icon': '04d'}], 'clouds': {'all': 92}, 'wind': {'speed': 2.54, 'deg': 199, 'gust': 2.98}, 'visibility': 10000, 'pop': 0, 'sys': {'pod': 'd'}, 'dt_txt': '2023-05-31 15:00:00'}, {'dt': 1685556000, 'main': {'temp': 287.95, 'feels_like': 287.21, 'temp_min': 287.95, 'temp_max': 287.95, 'pressure': 1013, 'sea_level': 1013, 'grnd_level': 1011, 'humidity': 66, 'temp_kf': 0}, 'weather': [{'id': 803, 'main': 'Clouds', 'description': 'broken clouds', 'icon': '04d'}], 'clouds': {'all': 81}, 'wind': {'speed': 2.65, 'deg': 227, 'gust': 2.55}, 'visibility': 10000, 'pop': 0, 'sys': {'pod': 'd'}, 'dt_txt': '2023-05-31 18:00:00'}, {'dt': 1685566800, 'main': {'temp': 288.52, 'feels_like': 287.94, 'temp_min': 288.52, 'temp_max': 288.52, 'pressure': 1012, 'sea_level': 1012, 'grnd_level': 1010, 'humidity': 70, 'temp_kf': 0}, 'weather': [{'id': 801, 'main': 'Clouds', 'description': 'few clouds', 'icon': '02d'}], 'clouds': {'all': 15}, 'wind': {'speed': 5.14, 'deg': 255, 'gust': 5}, 'visibility': 10000, 'pop': 0, 'sys': {'pod': 'd'}, 'dt_txt': '2023-05-31 21:00:00'}, {'dt': 1685577600, 'main': {'temp': 288.31, 'feels_like': 287.71, 'temp_min': 288.31, 'temp_max': 288.31, 'pressure': 1011, 'sea_level': 1011, 'grnd_level': 1009, 'humidity': 70, 'temp_kf': 0}, 'weather': [{'id': 801, 'main': 'Clouds', 'description': 'few clouds', 'icon': '02d'}], 'clouds': {'all': 12}, 'wind': {'speed': 5.78, 'deg': 262, 'gust': 6.96}, 'visibility': 10000, 'pop': 0, 'sys': {'pod': 'd'}, 'dt_txt': '2023-06-01 00:00:00'}, {'dt': 1685588400, 'main': {'temp': 286.27, 'feels_like': 285.65, 'temp_min': 286.27, 'temp_max': 286.27, 'pressure': 1010, 'sea_level': 1010, 'grnd_level': 1009, 'humidity': 77, 'temp_kf': 0}, 'weather': [{'id': 800, 'main': 'Clear', 'description': 'clear sky', 'icon': '01d'}], 'clouds': {'all': 0}, 'wind': {'speed': 5.53, 'deg': 266, 'gust': 8.81}, 'visibility': 10000, 'pop': 0, 'sys': {'pod': 'd'}, 'dt_txt': '2023-06-01 03:00:00'}, {'dt': 1685599200, 'main': {'temp': 285.6, 'feels_like': 285.02, 'temp_min': 285.6, 'temp_max': 285.6, 'pressure': 1011, 'sea_level': 1011, 'grnd_level': 1009, 'humidity': 81, 'temp_kf': 0}, 'weather': [{'id': 800, 'main': 'Clear', 'description': 'clear sky', 'icon': '01n'}], 'clouds': {'all': 4}, 'wind': {'speed': 2.98, 'deg': 260, 'gust': 6.05}, 'visibility': 10000, 'pop': 0, 'sys': {'pod': 'n'}, 'dt_txt': '2023-06-01 06:00:00'}, {'dt': 1685610000, 'main': {'temp': 284.95, 'feels_like': 284.33, 'temp_min': 284.95, 'temp_max': 284.95, 'pressure': 1010, 'sea_level': 1010, 'grnd_level': 1008, 'humidity': 82, 'temp_kf': 0}, 'weather': [{'id': 801, 'main': 'Clouds', 'description': 'few clouds', 'icon': '02n'}], 'clouds': {'all': 21}, 'wind': {'speed': 2.27, 'deg': 233, 'gust': 4.83}, 'visibility': 10000, 'pop': 0, 'sys': {'pod': 'n'}, 'dt_txt': '2023-06-01 09:00:00'}, {'dt': 1685620800, 'main': {'temp': 284.29, 'feels_like': 283.65, 'temp_min': 284.29, 'temp_max': 284.29, 'pressure': 1010, 'sea_level': 1010, 'grnd_level': 1008, 'humidity': 84, 'temp_kf': 0}, 'weather': [{'id': 801, 'main': 'Clouds', 'description': 'few clouds', 'icon': '02n'}], 'clouds': {'all': 17}, 'wind': {'speed': 2.29, 'deg': 178, 'gust': 3.66}, 'visibility': 10000, 'pop': 0, 'sys': {'pod': 'n'}, 'dt_txt': '2023-06-01 12:00:00'}, {'dt': 1685631600, 'main': {'temp': 285.57, 'feels_like': 284.85, 'temp_min': 285.57, 'temp_max': 285.57, 'pressure': 1012, 'sea_level': 1012, 'grnd_level': 1010, 'humidity': 76, 'temp_kf': 0}, 'weather': [{'id': 801, 'main': 'Clouds', 'description': 'few clouds', 'icon': '02d'}], 'clouds': {'all': 15}, 'wind': {'speed': 2.28, 'deg': 177, 'gust': 2.94}, 'visibility': 10000, 'pop': 0, 'sys': {'pod': 'd'}, 'dt_txt': '2023-06-01 15:00:00'}, {'dt': 1685642400, 'main': {'temp': 288.47, 'feels_like': 287.73, 'temp_min': 288.47, 'temp_max': 288.47, 'pressure': 1012, 'sea_level': 1012, 'grnd_level': 1010, 'humidity': 64, 'temp_kf': 0}, 'weather': [{'id': 800, 'main': 'Clear', 'description': 'clear sky', 'icon': '01d'}], 'clouds': {'all': 8}, 'wind': {'speed': 2.41, 'deg': 229, 'gust': 2.57}, 'visibility': 10000, 'pop': 0, 'sys': {'pod': 'd'}, 'dt_txt': '2023-06-01 18:00:00'}, {'dt': 1685653200, 'main': {'temp': 288.97, 'feels_like': 288.36, 'temp_min': 288.97, 'temp_max': 288.97, 'pressure': 1012, 'sea_level': 1012, 'grnd_level': 1010, 'humidity': 67, 'temp_kf': 0}, 'weather': [{'id': 800, 'main': 'Clear', 'description': 'clear sky', 'icon': '01d'}], 'clouds': {'all': 7}, 'wind': {'speed': 5.34, 'deg': 260, 'gust': 5.31}, 'visibility': 10000, 'pop': 0, 'sys': {'pod': 'd'}, 'dt_txt': '2023-06-01 21:00:00'}, {'dt': 1685664000, 'main': {'temp': 288.54, 'feels_like': 287.94, 'temp_min': 288.54, 'temp_max': 288.54, 'pressure': 1012, 'sea_level': 1012, 'grnd_level': 1010, 'humidity': 69, 'temp_kf': 0}, 'weather': [{'id': 800, 'main': 'Clear', 'description': 'clear sky', 'icon': '01d'}], 'clouds': {'all': 6}, 'wind': {'speed': 5.74, 'deg': 259, 'gust': 6.89}, 'visibility': 10000, 'pop': 0, 'sys': {'pod': 'd'}, 'dt_txt': '2023-06-02 00:00:00'}, {'dt': 1685674800, 'main': {'temp': 286.48, 'feels_like': 285.91, 'temp_min': 286.48, 'temp_max': 286.48, 'pressure': 1012, 'sea_level': 1012, 'grnd_level': 1010, 'humidity': 78, 'temp_kf': 0}, 'weather': [{'id': 800, 'main': 'Clear', 'description': 'clear sky', 'icon': '01d'}], 'clouds': {'all': 0}, 'wind': {'speed': 4.91, 'deg': 253, 'gust': 7.17}, 'visibility': 10000, 'pop': 0, 'sys': {'pod': 'd'}, 'dt_txt': '2023-06-02 03:00:00'}, {'dt': 1685685600, 'main': {'temp': 285.5, 'feels_like': 284.98, 'temp_min': 285.5, 'temp_max': 285.5, 'pressure': 1012, 'sea_level': 1012, 'grnd_level': 1010, 'humidity': 84, 'temp_kf': 0}, 'weather': [{'id': 800, 'main': 'Clear', 'description': 'clear sky', 'icon': '01n'}], 'clouds': {'all': 2}, 'wind': {'speed': 3.57, 'deg': 214, 'gust': 5.24}, 'visibility': 10000, 'pop': 0, 'sys': {'pod': 'n'}, 'dt_txt': '2023-06-02 06:00:00'}, {'dt': 1685696400, 'main': {'temp': 285.13, 'feels_like': 284.63, 'temp_min': 285.13, 'temp_max': 285.13, 'pressure': 1012, 'sea_level': 1012, 'grnd_level': 1011, 'humidity': 86, 'temp_kf': 0}, 'weather': [{'id': 800, 'main': 'Clear', 'description': 'clear sky', 'icon': '01n'}], 'clouds': {'all': 6}, 'wind': {'speed': 3.58, 'deg': 194, 'gust': 4.89}, 'visibility': 10000, 'pop': 0, 'sys': {'pod': 'n'}, 'dt_txt': '2023-06-02 09:00:00'}, {'dt': 1685707200, 'main': {'temp': 284.56, 'feels_like': 284.03, 'temp_min': 284.56, 'temp_max': 284.56, 'pressure': 1013, 'sea_level': 1013, 'grnd_level': 1011, 'humidity': 87, 'temp_kf': 0}, 'weather': [{'id': 800, 'main': 'Clear', 'description': 'clear sky', 'icon': '01n'}], 'clouds': {'all': 4}, 'wind': {'speed': 3.14, 'deg': 183, 'gust': 3.97}, 'visibility': 10000, 'pop': 0, 'sys': {'pod': 'n'}, 'dt_txt': '2023-06-02 12:00:00'}, {'dt': 1685718000, 'main': {'temp': 285.86, 'feels_like': 285.17, 'temp_min': 285.86, 'temp_max': 285.86, 'pressure': 1014, 'sea_level': 1014, 'grnd_level': 1012, 'humidity': 76, 'temp_kf': 0}, 'weather': [{'id': 800, 'main': 'Clear', 'description': 'clear sky', 'icon': '01d'}], 'clouds': {'all': 5}, 'wind': {'speed': 2.69, 'deg': 157, 'gust': 3.18}, 'visibility': 10000, 'pop': 0, 'sys': {'pod': 'd'}, 'dt_txt': '2023-06-02 15:00:00'}, {'dt': 1685728800, 'main': {'temp': 289.77, 'feels_like': 289.05, 'temp_min': 289.77, 'temp_max': 289.77, 'pressure': 1014, 'sea_level': 1014, 'grnd_level': 1012, 'humidity': 60, 'temp_kf': 0}, 'weather': [{'id': 800, 'main': 'Clear', 'description': 'clear sky', 'icon': '01d'}], 'clouds': {'all': 2}, 'wind': {'speed': 2.26, 'deg': 230, 'gust': 2.1}, 'visibility': 10000, 'pop': 0, 'sys': {'pod': 'd'}, 'dt_txt': '2023-06-02 18:00:00'}, {'dt': 1685739600, 'main': {'temp': 291.13, 'feels_like': 290.55, 'temp_min': 291.13, 'temp_max': 291.13, 'pressure': 1014, 'sea_level': 1014, 'grnd_level': 1012, 'humidity': 60, 'temp_kf': 0}, 'weather': [{'id': 800, 'main': 'Clear', 'description': 'clear sky', 'icon': '01d'}], 'clouds': {'all': 5}, 'wind': {'speed': 4.89, 'deg': 256, 'gust': 4.66}, 'visibility': 10000, 'pop': 0, 'sys': {'pod': 'd'}, 'dt_txt': '2023-06-02 21:00:00'}, {'dt': 1685750400, 'main': {'temp': 289.93, 'feels_like': 289.39, 'temp_min': 289.93, 'temp_max': 289.93, 'pressure': 1013, 'sea_level': 1013, 'grnd_level': 1011, 'humidity': 66, 'temp_kf': 0}, 'weather': [{'id': 800, 'main': 'Clear', 'description': 'clear sky', 'icon': '01d'}], 'clouds': {'all': 2}, 'wind': {'speed': 5.49, 'deg': 259, 'gust': 6.61}, 'visibility': 10000, 'pop': 0, 'sys': {'pod': 'd'}, 'dt_txt': '2023-06-03 00:00:00'}, {'dt': 1685761200, 'main': {'temp': 287.07, 'feels_like': 286.55, 'temp_min': 287.07, 'temp_max': 287.07, 'pressure': 1013, 'sea_level': 1013, 'grnd_level': 1011, 'humidity': 78, 'temp_kf': 0}, 'weather': [{'id': 800, 'main': 'Clear', 'description': 'clear sky', 'icon': '01d'}], 'clouds': {'all': 0}, 'wind': {'speed': 3.59, 'deg': 256, 'gust': 4.65}, 'visibility': 10000, 'pop': 0, 'sys': {'pod': 'd'}, 'dt_txt': '2023-06-03 03:00:00'}, {'dt': 1685772000, 'main': {'temp': 285.71, 'feels_like': 285.21, 'temp_min': 285.71, 'temp_max': 285.71, 'pressure': 1014, 'sea_level': 1014, 'grnd_level': 1012, 'humidity': 84, 'temp_kf': 0}, 'weather': [{'id': 800, 'main': 'Clear', 'description': 'clear sky', 'icon': '01n'}], 'clouds': {'all': 0}, 'wind': {'speed': 3.4, 'deg': 242, 'gust': 4.55}, 'visibility': 10000, 'pop': 0, 'sys': {'pod': 'n'}, 'dt_txt': '2023-06-03 06:00:00'}, {'dt': 1685782800, 'main': {'temp': 285.2, 'feels_like': 284.73, 'temp_min': 285.2, 'temp_max': 285.2, 'pressure': 1014, 'sea_level': 1014, 'grnd_level': 1012, 'humidity': 87, 'temp_kf': 0}, 'weather': [{'id': 800, 'main': 'Clear', 'description': 'clear sky', 'icon': '01n'}], 'clouds': {'all': 1}, 'wind': {'speed': 3.27, 'deg': 229, 'gust': 4.28}, 'visibility': 10000, 'pop': 0, 'sys': {'pod': 'n'}, 'dt_txt': '2023-06-03 09:00:00'}, {'dt': 1685793600, 'main': {'temp': 284.89, 'feels_like': 284.42, 'temp_min': 284.89, 'temp_max': 284.89, 'pressure': 1013, 'sea_level': 1013, 'grnd_level': 1011, 'humidity': 88, 'temp_kf': 0}, 'weather': [{'id': 800, 'main': 'Clear', 'description': 'clear sky', 'icon': '01n'}], 'clouds': {'all': 5}, 'wind': {'speed': 2.86, 'deg': 196, 'gust': 3.54}, 'visibility': 10000, 'pop': 0, 'sys': {'pod': 'n'}, 'dt_txt': '2023-06-03 12:00:00'}, {'dt': 1685804400, 'main': {'temp': 286.53, 'feels_like': 285.99, 'temp_min': 286.53, 'temp_max': 286.53, 'pressure': 1013, 'sea_level': 1013, 'grnd_level': 1012, 'humidity': 79, 'temp_kf': 0}, 'weather': [{'id': 800, 'main': 'Clear', 'description': 'clear sky', 'icon': '01d'}], 'clouds': {'all': 8}, 'wind': {'speed': 2.32, 'deg': 198, 'gust': 2.66}, 'visibility': 10000, 'pop': 0, 'sys': {'pod': 'd'}, 'dt_txt': '2023-06-03 15:00:00'}, {'dt': 1685815200, 'main': {'temp': 290.46, 'feels_like': 289.89, 'temp_min': 290.46, 'temp_max': 290.46, 'pressure': 1013, 'sea_level': 1013, 'grnd_level': 1011, 'humidity': 63, 'temp_kf': 0}, 'weather': [{'id': 800, 'main': 'Clear', 'description': 'clear sky', 'icon': '01d'}], 'clouds': {'all': 8}, 'wind': {'speed': 2.16, 'deg': 225, 'gust': 2.19}, 'visibility': 10000, 'pop': 0, 'sys': {'pod': 'd'}, 'dt_txt': '2023-06-03 18:00:00'}, {'dt': 1685826000, 'main': {'temp': 291.37, 'feels_like': 290.89, 'temp_min': 291.37, 'temp_max': 291.37, 'pressure': 1013, 'sea_level': 1013, 'grnd_level': 1011, 'humidity': 63, 'temp_kf': 0}, 'weather': [{'id': 800, 'main': 'Clear', 'description': 'clear sky', 'icon': '01d'}], 'clouds': {'all': 8}, 'wind': {'speed': 4.69, 'deg': 258, 'gust': 4.85}, 'visibility': 10000, 'pop': 0, 'sys': {'pod': 'd'}, 'dt_txt': '2023-06-03 21:00:00'}, {'dt': 1685836800, 'main': {'temp': 289.72, 'feels_like': 289.21, 'temp_min': 289.72, 'temp_max': 289.72, 'pressure': 1012, 'sea_level': 1012, 'grnd_level': 1010, 'humidity': 68, 'temp_kf': 0}, 'weather': [{'id': 800, 'main': 'Clear', 'description': 'clear sky', 'icon': '01d'}], 'clouds': {'all': 10}, 'wind': {'speed': 5.81, 'deg': 260, 'gust': 7.05}, 'visibility': 10000, 'pop': 0, 'sys': {'pod': 'd'}, 'dt_txt': '2023-06-04 00:00:00'}], 'city': {'id': 5391959, 'name': 'San Francisco', 'coord': {'lat': 37.7749, 'lon': -122.4194}, 'country': 'US', 'population': 805235, 'timezone': -25200, 'sunrise': 1685364655, 'sunset': 1685417015}}\n"
          ]
        }
      ],
      "source": [
        "# To print Data\n",
        "print(data)"
      ]
    },
    {
      "cell_type": "markdown",
      "metadata": {
        "id": "PqRWnV9fEBFI"
      },
      "source": [
        "### The function method:\n"
      ]
    },
    {
      "cell_type": "code",
      "execution_count": null,
      "metadata": {
        "id": "Q2T0fGvk6Mwg"
      },
      "outputs": [],
      "source": [
        "# create a function for weather forecast\n",
        "def get_weather_forecast(lat, lon, api_key):\n",
        "    url = f\"http://api.openweathermap.org/data/2.5/forecast?lat={lat}&lon={lon}&appid={api_key}\"\n",
        "    response = requests.get(url)\n",
        "    data = response.json()\n",
        "    return data"
      ]
    },
    {
      "cell_type": "code",
      "execution_count": null,
      "metadata": {
        "colab": {
          "base_uri": "https://localhost:8080/"
        },
        "id": "y84SgPZC6jlS",
        "outputId": "62152d09-1cdc-4628-cd82-50083646614c"
      },
      "outputs": [
        {
          "name": "stdout",
          "output_type": "stream",
          "text": [
            "{'cod': '200', 'message': 0, 'cnt': 40, 'list': [{'dt': 1685415600, 'main': {'temp': 288.7, 'feels_like': 288.32, 'temp_min': 287.33, 'temp_max': 288.7, 'pressure': 1014, 'sea_level': 1014, 'grnd_level': 1013, 'humidity': 77, 'temp_kf': 1.37}, 'weather': [{'id': 803, 'main': 'Clouds', 'description': 'broken clouds', 'icon': '04d'}], 'clouds': {'all': 69}, 'wind': {'speed': 4.86, 'deg': 236, 'gust': 6.84}, 'visibility': 10000, 'pop': 0, 'sys': {'pod': 'd'}, 'dt_txt': '2023-05-30 03:00:00'}, {'dt': 1685426400, 'main': {'temp': 287.37, 'feels_like': 287.01, 'temp_min': 286.36, 'temp_max': 287.37, 'pressure': 1014, 'sea_level': 1014, 'grnd_level': 1013, 'humidity': 83, 'temp_kf': 1.01}, 'weather': [{'id': 803, 'main': 'Clouds', 'description': 'broken clouds', 'icon': '04n'}], 'clouds': {'all': 64}, 'wind': {'speed': 3.41, 'deg': 243, 'gust': 5.27}, 'visibility': 10000, 'pop': 0, 'sys': {'pod': 'n'}, 'dt_txt': '2023-05-30 06:00:00'}, {'dt': 1685437200, 'main': {'temp': 285.84, 'feels_like': 285.51, 'temp_min': 285.84, 'temp_max': 285.84, 'pressure': 1014, 'sea_level': 1014, 'grnd_level': 1012, 'humidity': 90, 'temp_kf': 0}, 'weather': [{'id': 802, 'main': 'Clouds', 'description': 'scattered clouds', 'icon': '03n'}], 'clouds': {'all': 31}, 'wind': {'speed': 2.92, 'deg': 237, 'gust': 4.13}, 'visibility': 10000, 'pop': 0, 'sys': {'pod': 'n'}, 'dt_txt': '2023-05-30 09:00:00'}, {'dt': 1685448000, 'main': {'temp': 285.62, 'feels_like': 285.3, 'temp_min': 285.62, 'temp_max': 285.62, 'pressure': 1014, 'sea_level': 1014, 'grnd_level': 1012, 'humidity': 91, 'temp_kf': 0}, 'weather': [{'id': 802, 'main': 'Clouds', 'description': 'scattered clouds', 'icon': '03n'}], 'clouds': {'all': 28}, 'wind': {'speed': 2.53, 'deg': 240, 'gust': 3.39}, 'visibility': 10000, 'pop': 0, 'sys': {'pod': 'n'}, 'dt_txt': '2023-05-30 12:00:00'}, {'dt': 1685458800, 'main': {'temp': 286.9, 'feels_like': 286.5, 'temp_min': 286.9, 'temp_max': 286.9, 'pressure': 1015, 'sea_level': 1015, 'grnd_level': 1013, 'humidity': 83, 'temp_kf': 0}, 'weather': [{'id': 802, 'main': 'Clouds', 'description': 'scattered clouds', 'icon': '03d'}], 'clouds': {'all': 33}, 'wind': {'speed': 3.35, 'deg': 245, 'gust': 4.56}, 'visibility': 10000, 'pop': 0, 'sys': {'pod': 'd'}, 'dt_txt': '2023-05-30 15:00:00'}, {'dt': 1685469600, 'main': {'temp': 288.73, 'feels_like': 288.2, 'temp_min': 288.73, 'temp_max': 288.73, 'pressure': 1015, 'sea_level': 1015, 'grnd_level': 1013, 'humidity': 71, 'temp_kf': 0}, 'weather': [{'id': 802, 'main': 'Clouds', 'description': 'scattered clouds', 'icon': '03d'}], 'clouds': {'all': 27}, 'wind': {'speed': 4.85, 'deg': 246, 'gust': 5.44}, 'visibility': 10000, 'pop': 0, 'sys': {'pod': 'd'}, 'dt_txt': '2023-05-30 18:00:00'}, {'dt': 1685480400, 'main': {'temp': 289.13, 'feels_like': 288.56, 'temp_min': 289.13, 'temp_max': 289.13, 'pressure': 1014, 'sea_level': 1014, 'grnd_level': 1013, 'humidity': 68, 'temp_kf': 0}, 'weather': [{'id': 800, 'main': 'Clear', 'description': 'clear sky', 'icon': '01d'}], 'clouds': {'all': 1}, 'wind': {'speed': 6.36, 'deg': 256, 'gust': 7.33}, 'visibility': 10000, 'pop': 0, 'sys': {'pod': 'd'}, 'dt_txt': '2023-05-30 21:00:00'}, {'dt': 1685491200, 'main': {'temp': 288.35, 'feels_like': 287.78, 'temp_min': 288.35, 'temp_max': 288.35, 'pressure': 1013, 'sea_level': 1013, 'grnd_level': 1011, 'humidity': 71, 'temp_kf': 0}, 'weather': [{'id': 800, 'main': 'Clear', 'description': 'clear sky', 'icon': '01d'}], 'clouds': {'all': 0}, 'wind': {'speed': 6.45, 'deg': 252, 'gust': 8.07}, 'visibility': 10000, 'pop': 0, 'sys': {'pod': 'd'}, 'dt_txt': '2023-05-31 00:00:00'}, {'dt': 1685502000, 'main': {'temp': 286.02, 'feels_like': 285.5, 'temp_min': 286.02, 'temp_max': 286.02, 'pressure': 1014, 'sea_level': 1014, 'grnd_level': 1012, 'humidity': 82, 'temp_kf': 0}, 'weather': [{'id': 801, 'main': 'Clouds', 'description': 'few clouds', 'icon': '02d'}], 'clouds': {'all': 20}, 'wind': {'speed': 5.7, 'deg': 252, 'gust': 7.02}, 'visibility': 10000, 'pop': 0, 'sys': {'pod': 'd'}, 'dt_txt': '2023-05-31 03:00:00'}, {'dt': 1685512800, 'main': {'temp': 285.74, 'feels_like': 285.14, 'temp_min': 285.74, 'temp_max': 285.74, 'pressure': 1013, 'sea_level': 1013, 'grnd_level': 1011, 'humidity': 80, 'temp_kf': 0}, 'weather': [{'id': 803, 'main': 'Clouds', 'description': 'broken clouds', 'icon': '04n'}], 'clouds': {'all': 52}, 'wind': {'speed': 5.73, 'deg': 245, 'gust': 6.81}, 'visibility': 10000, 'pop': 0, 'sys': {'pod': 'n'}, 'dt_txt': '2023-05-31 06:00:00'}, {'dt': 1685523600, 'main': {'temp': 285.2, 'feels_like': 284.55, 'temp_min': 285.2, 'temp_max': 285.2, 'pressure': 1013, 'sea_level': 1013, 'grnd_level': 1011, 'humidity': 80, 'temp_kf': 0}, 'weather': [{'id': 804, 'main': 'Clouds', 'description': 'overcast clouds', 'icon': '04n'}], 'clouds': {'all': 99}, 'wind': {'speed': 5.09, 'deg': 238, 'gust': 6.23}, 'visibility': 10000, 'pop': 0, 'sys': {'pod': 'n'}, 'dt_txt': '2023-05-31 09:00:00'}, {'dt': 1685534400, 'main': {'temp': 285.1, 'feels_like': 284.52, 'temp_min': 285.1, 'temp_max': 285.1, 'pressure': 1012, 'sea_level': 1012, 'grnd_level': 1010, 'humidity': 83, 'temp_kf': 0}, 'weather': [{'id': 804, 'main': 'Clouds', 'description': 'overcast clouds', 'icon': '04n'}], 'clouds': {'all': 94}, 'wind': {'speed': 3.72, 'deg': 215, 'gust': 4.55}, 'visibility': 10000, 'pop': 0, 'sys': {'pod': 'n'}, 'dt_txt': '2023-05-31 12:00:00'}, {'dt': 1685545200, 'main': {'temp': 285.32, 'feels_like': 284.66, 'temp_min': 285.32, 'temp_max': 285.32, 'pressure': 1013, 'sea_level': 1013, 'grnd_level': 1011, 'humidity': 79, 'temp_kf': 0}, 'weather': [{'id': 804, 'main': 'Clouds', 'description': 'overcast clouds', 'icon': '04d'}], 'clouds': {'all': 92}, 'wind': {'speed': 2.54, 'deg': 199, 'gust': 2.98}, 'visibility': 10000, 'pop': 0, 'sys': {'pod': 'd'}, 'dt_txt': '2023-05-31 15:00:00'}, {'dt': 1685556000, 'main': {'temp': 287.95, 'feels_like': 287.21, 'temp_min': 287.95, 'temp_max': 287.95, 'pressure': 1013, 'sea_level': 1013, 'grnd_level': 1011, 'humidity': 66, 'temp_kf': 0}, 'weather': [{'id': 803, 'main': 'Clouds', 'description': 'broken clouds', 'icon': '04d'}], 'clouds': {'all': 81}, 'wind': {'speed': 2.65, 'deg': 227, 'gust': 2.55}, 'visibility': 10000, 'pop': 0, 'sys': {'pod': 'd'}, 'dt_txt': '2023-05-31 18:00:00'}, {'dt': 1685566800, 'main': {'temp': 288.52, 'feels_like': 287.94, 'temp_min': 288.52, 'temp_max': 288.52, 'pressure': 1012, 'sea_level': 1012, 'grnd_level': 1010, 'humidity': 70, 'temp_kf': 0}, 'weather': [{'id': 801, 'main': 'Clouds', 'description': 'few clouds', 'icon': '02d'}], 'clouds': {'all': 15}, 'wind': {'speed': 5.14, 'deg': 255, 'gust': 5}, 'visibility': 10000, 'pop': 0, 'sys': {'pod': 'd'}, 'dt_txt': '2023-05-31 21:00:00'}, {'dt': 1685577600, 'main': {'temp': 288.31, 'feels_like': 287.71, 'temp_min': 288.31, 'temp_max': 288.31, 'pressure': 1011, 'sea_level': 1011, 'grnd_level': 1009, 'humidity': 70, 'temp_kf': 0}, 'weather': [{'id': 801, 'main': 'Clouds', 'description': 'few clouds', 'icon': '02d'}], 'clouds': {'all': 12}, 'wind': {'speed': 5.78, 'deg': 262, 'gust': 6.96}, 'visibility': 10000, 'pop': 0, 'sys': {'pod': 'd'}, 'dt_txt': '2023-06-01 00:00:00'}, {'dt': 1685588400, 'main': {'temp': 286.27, 'feels_like': 285.65, 'temp_min': 286.27, 'temp_max': 286.27, 'pressure': 1010, 'sea_level': 1010, 'grnd_level': 1009, 'humidity': 77, 'temp_kf': 0}, 'weather': [{'id': 800, 'main': 'Clear', 'description': 'clear sky', 'icon': '01d'}], 'clouds': {'all': 0}, 'wind': {'speed': 5.53, 'deg': 266, 'gust': 8.81}, 'visibility': 10000, 'pop': 0, 'sys': {'pod': 'd'}, 'dt_txt': '2023-06-01 03:00:00'}, {'dt': 1685599200, 'main': {'temp': 285.6, 'feels_like': 285.02, 'temp_min': 285.6, 'temp_max': 285.6, 'pressure': 1011, 'sea_level': 1011, 'grnd_level': 1009, 'humidity': 81, 'temp_kf': 0}, 'weather': [{'id': 800, 'main': 'Clear', 'description': 'clear sky', 'icon': '01n'}], 'clouds': {'all': 4}, 'wind': {'speed': 2.98, 'deg': 260, 'gust': 6.05}, 'visibility': 10000, 'pop': 0, 'sys': {'pod': 'n'}, 'dt_txt': '2023-06-01 06:00:00'}, {'dt': 1685610000, 'main': {'temp': 284.95, 'feels_like': 284.33, 'temp_min': 284.95, 'temp_max': 284.95, 'pressure': 1010, 'sea_level': 1010, 'grnd_level': 1008, 'humidity': 82, 'temp_kf': 0}, 'weather': [{'id': 801, 'main': 'Clouds', 'description': 'few clouds', 'icon': '02n'}], 'clouds': {'all': 21}, 'wind': {'speed': 2.27, 'deg': 233, 'gust': 4.83}, 'visibility': 10000, 'pop': 0, 'sys': {'pod': 'n'}, 'dt_txt': '2023-06-01 09:00:00'}, {'dt': 1685620800, 'main': {'temp': 284.29, 'feels_like': 283.65, 'temp_min': 284.29, 'temp_max': 284.29, 'pressure': 1010, 'sea_level': 1010, 'grnd_level': 1008, 'humidity': 84, 'temp_kf': 0}, 'weather': [{'id': 801, 'main': 'Clouds', 'description': 'few clouds', 'icon': '02n'}], 'clouds': {'all': 17}, 'wind': {'speed': 2.29, 'deg': 178, 'gust': 3.66}, 'visibility': 10000, 'pop': 0, 'sys': {'pod': 'n'}, 'dt_txt': '2023-06-01 12:00:00'}, {'dt': 1685631600, 'main': {'temp': 285.57, 'feels_like': 284.85, 'temp_min': 285.57, 'temp_max': 285.57, 'pressure': 1012, 'sea_level': 1012, 'grnd_level': 1010, 'humidity': 76, 'temp_kf': 0}, 'weather': [{'id': 801, 'main': 'Clouds', 'description': 'few clouds', 'icon': '02d'}], 'clouds': {'all': 15}, 'wind': {'speed': 2.28, 'deg': 177, 'gust': 2.94}, 'visibility': 10000, 'pop': 0, 'sys': {'pod': 'd'}, 'dt_txt': '2023-06-01 15:00:00'}, {'dt': 1685642400, 'main': {'temp': 288.47, 'feels_like': 287.73, 'temp_min': 288.47, 'temp_max': 288.47, 'pressure': 1012, 'sea_level': 1012, 'grnd_level': 1010, 'humidity': 64, 'temp_kf': 0}, 'weather': [{'id': 800, 'main': 'Clear', 'description': 'clear sky', 'icon': '01d'}], 'clouds': {'all': 8}, 'wind': {'speed': 2.41, 'deg': 229, 'gust': 2.57}, 'visibility': 10000, 'pop': 0, 'sys': {'pod': 'd'}, 'dt_txt': '2023-06-01 18:00:00'}, {'dt': 1685653200, 'main': {'temp': 288.97, 'feels_like': 288.36, 'temp_min': 288.97, 'temp_max': 288.97, 'pressure': 1012, 'sea_level': 1012, 'grnd_level': 1010, 'humidity': 67, 'temp_kf': 0}, 'weather': [{'id': 800, 'main': 'Clear', 'description': 'clear sky', 'icon': '01d'}], 'clouds': {'all': 7}, 'wind': {'speed': 5.34, 'deg': 260, 'gust': 5.31}, 'visibility': 10000, 'pop': 0, 'sys': {'pod': 'd'}, 'dt_txt': '2023-06-01 21:00:00'}, {'dt': 1685664000, 'main': {'temp': 288.54, 'feels_like': 287.94, 'temp_min': 288.54, 'temp_max': 288.54, 'pressure': 1012, 'sea_level': 1012, 'grnd_level': 1010, 'humidity': 69, 'temp_kf': 0}, 'weather': [{'id': 800, 'main': 'Clear', 'description': 'clear sky', 'icon': '01d'}], 'clouds': {'all': 6}, 'wind': {'speed': 5.74, 'deg': 259, 'gust': 6.89}, 'visibility': 10000, 'pop': 0, 'sys': {'pod': 'd'}, 'dt_txt': '2023-06-02 00:00:00'}, {'dt': 1685674800, 'main': {'temp': 286.48, 'feels_like': 285.91, 'temp_min': 286.48, 'temp_max': 286.48, 'pressure': 1012, 'sea_level': 1012, 'grnd_level': 1010, 'humidity': 78, 'temp_kf': 0}, 'weather': [{'id': 800, 'main': 'Clear', 'description': 'clear sky', 'icon': '01d'}], 'clouds': {'all': 0}, 'wind': {'speed': 4.91, 'deg': 253, 'gust': 7.17}, 'visibility': 10000, 'pop': 0, 'sys': {'pod': 'd'}, 'dt_txt': '2023-06-02 03:00:00'}, {'dt': 1685685600, 'main': {'temp': 285.5, 'feels_like': 284.98, 'temp_min': 285.5, 'temp_max': 285.5, 'pressure': 1012, 'sea_level': 1012, 'grnd_level': 1010, 'humidity': 84, 'temp_kf': 0}, 'weather': [{'id': 800, 'main': 'Clear', 'description': 'clear sky', 'icon': '01n'}], 'clouds': {'all': 2}, 'wind': {'speed': 3.57, 'deg': 214, 'gust': 5.24}, 'visibility': 10000, 'pop': 0, 'sys': {'pod': 'n'}, 'dt_txt': '2023-06-02 06:00:00'}, {'dt': 1685696400, 'main': {'temp': 285.13, 'feels_like': 284.63, 'temp_min': 285.13, 'temp_max': 285.13, 'pressure': 1012, 'sea_level': 1012, 'grnd_level': 1011, 'humidity': 86, 'temp_kf': 0}, 'weather': [{'id': 800, 'main': 'Clear', 'description': 'clear sky', 'icon': '01n'}], 'clouds': {'all': 6}, 'wind': {'speed': 3.58, 'deg': 194, 'gust': 4.89}, 'visibility': 10000, 'pop': 0, 'sys': {'pod': 'n'}, 'dt_txt': '2023-06-02 09:00:00'}, {'dt': 1685707200, 'main': {'temp': 284.56, 'feels_like': 284.03, 'temp_min': 284.56, 'temp_max': 284.56, 'pressure': 1013, 'sea_level': 1013, 'grnd_level': 1011, 'humidity': 87, 'temp_kf': 0}, 'weather': [{'id': 800, 'main': 'Clear', 'description': 'clear sky', 'icon': '01n'}], 'clouds': {'all': 4}, 'wind': {'speed': 3.14, 'deg': 183, 'gust': 3.97}, 'visibility': 10000, 'pop': 0, 'sys': {'pod': 'n'}, 'dt_txt': '2023-06-02 12:00:00'}, {'dt': 1685718000, 'main': {'temp': 285.86, 'feels_like': 285.17, 'temp_min': 285.86, 'temp_max': 285.86, 'pressure': 1014, 'sea_level': 1014, 'grnd_level': 1012, 'humidity': 76, 'temp_kf': 0}, 'weather': [{'id': 800, 'main': 'Clear', 'description': 'clear sky', 'icon': '01d'}], 'clouds': {'all': 5}, 'wind': {'speed': 2.69, 'deg': 157, 'gust': 3.18}, 'visibility': 10000, 'pop': 0, 'sys': {'pod': 'd'}, 'dt_txt': '2023-06-02 15:00:00'}, {'dt': 1685728800, 'main': {'temp': 289.77, 'feels_like': 289.05, 'temp_min': 289.77, 'temp_max': 289.77, 'pressure': 1014, 'sea_level': 1014, 'grnd_level': 1012, 'humidity': 60, 'temp_kf': 0}, 'weather': [{'id': 800, 'main': 'Clear', 'description': 'clear sky', 'icon': '01d'}], 'clouds': {'all': 2}, 'wind': {'speed': 2.26, 'deg': 230, 'gust': 2.1}, 'visibility': 10000, 'pop': 0, 'sys': {'pod': 'd'}, 'dt_txt': '2023-06-02 18:00:00'}, {'dt': 1685739600, 'main': {'temp': 291.13, 'feels_like': 290.55, 'temp_min': 291.13, 'temp_max': 291.13, 'pressure': 1014, 'sea_level': 1014, 'grnd_level': 1012, 'humidity': 60, 'temp_kf': 0}, 'weather': [{'id': 800, 'main': 'Clear', 'description': 'clear sky', 'icon': '01d'}], 'clouds': {'all': 5}, 'wind': {'speed': 4.89, 'deg': 256, 'gust': 4.66}, 'visibility': 10000, 'pop': 0, 'sys': {'pod': 'd'}, 'dt_txt': '2023-06-02 21:00:00'}, {'dt': 1685750400, 'main': {'temp': 289.93, 'feels_like': 289.39, 'temp_min': 289.93, 'temp_max': 289.93, 'pressure': 1013, 'sea_level': 1013, 'grnd_level': 1011, 'humidity': 66, 'temp_kf': 0}, 'weather': [{'id': 800, 'main': 'Clear', 'description': 'clear sky', 'icon': '01d'}], 'clouds': {'all': 2}, 'wind': {'speed': 5.49, 'deg': 259, 'gust': 6.61}, 'visibility': 10000, 'pop': 0, 'sys': {'pod': 'd'}, 'dt_txt': '2023-06-03 00:00:00'}, {'dt': 1685761200, 'main': {'temp': 287.07, 'feels_like': 286.55, 'temp_min': 287.07, 'temp_max': 287.07, 'pressure': 1013, 'sea_level': 1013, 'grnd_level': 1011, 'humidity': 78, 'temp_kf': 0}, 'weather': [{'id': 800, 'main': 'Clear', 'description': 'clear sky', 'icon': '01d'}], 'clouds': {'all': 0}, 'wind': {'speed': 3.59, 'deg': 256, 'gust': 4.65}, 'visibility': 10000, 'pop': 0, 'sys': {'pod': 'd'}, 'dt_txt': '2023-06-03 03:00:00'}, {'dt': 1685772000, 'main': {'temp': 285.71, 'feels_like': 285.21, 'temp_min': 285.71, 'temp_max': 285.71, 'pressure': 1014, 'sea_level': 1014, 'grnd_level': 1012, 'humidity': 84, 'temp_kf': 0}, 'weather': [{'id': 800, 'main': 'Clear', 'description': 'clear sky', 'icon': '01n'}], 'clouds': {'all': 0}, 'wind': {'speed': 3.4, 'deg': 242, 'gust': 4.55}, 'visibility': 10000, 'pop': 0, 'sys': {'pod': 'n'}, 'dt_txt': '2023-06-03 06:00:00'}, {'dt': 1685782800, 'main': {'temp': 285.2, 'feels_like': 284.73, 'temp_min': 285.2, 'temp_max': 285.2, 'pressure': 1014, 'sea_level': 1014, 'grnd_level': 1012, 'humidity': 87, 'temp_kf': 0}, 'weather': [{'id': 800, 'main': 'Clear', 'description': 'clear sky', 'icon': '01n'}], 'clouds': {'all': 1}, 'wind': {'speed': 3.27, 'deg': 229, 'gust': 4.28}, 'visibility': 10000, 'pop': 0, 'sys': {'pod': 'n'}, 'dt_txt': '2023-06-03 09:00:00'}, {'dt': 1685793600, 'main': {'temp': 284.89, 'feels_like': 284.42, 'temp_min': 284.89, 'temp_max': 284.89, 'pressure': 1013, 'sea_level': 1013, 'grnd_level': 1011, 'humidity': 88, 'temp_kf': 0}, 'weather': [{'id': 800, 'main': 'Clear', 'description': 'clear sky', 'icon': '01n'}], 'clouds': {'all': 5}, 'wind': {'speed': 2.86, 'deg': 196, 'gust': 3.54}, 'visibility': 10000, 'pop': 0, 'sys': {'pod': 'n'}, 'dt_txt': '2023-06-03 12:00:00'}, {'dt': 1685804400, 'main': {'temp': 286.53, 'feels_like': 285.99, 'temp_min': 286.53, 'temp_max': 286.53, 'pressure': 1013, 'sea_level': 1013, 'grnd_level': 1012, 'humidity': 79, 'temp_kf': 0}, 'weather': [{'id': 800, 'main': 'Clear', 'description': 'clear sky', 'icon': '01d'}], 'clouds': {'all': 8}, 'wind': {'speed': 2.32, 'deg': 198, 'gust': 2.66}, 'visibility': 10000, 'pop': 0, 'sys': {'pod': 'd'}, 'dt_txt': '2023-06-03 15:00:00'}, {'dt': 1685815200, 'main': {'temp': 290.46, 'feels_like': 289.89, 'temp_min': 290.46, 'temp_max': 290.46, 'pressure': 1013, 'sea_level': 1013, 'grnd_level': 1011, 'humidity': 63, 'temp_kf': 0}, 'weather': [{'id': 800, 'main': 'Clear', 'description': 'clear sky', 'icon': '01d'}], 'clouds': {'all': 8}, 'wind': {'speed': 2.16, 'deg': 225, 'gust': 2.19}, 'visibility': 10000, 'pop': 0, 'sys': {'pod': 'd'}, 'dt_txt': '2023-06-03 18:00:00'}, {'dt': 1685826000, 'main': {'temp': 291.37, 'feels_like': 290.89, 'temp_min': 291.37, 'temp_max': 291.37, 'pressure': 1013, 'sea_level': 1013, 'grnd_level': 1011, 'humidity': 63, 'temp_kf': 0}, 'weather': [{'id': 800, 'main': 'Clear', 'description': 'clear sky', 'icon': '01d'}], 'clouds': {'all': 8}, 'wind': {'speed': 4.69, 'deg': 258, 'gust': 4.85}, 'visibility': 10000, 'pop': 0, 'sys': {'pod': 'd'}, 'dt_txt': '2023-06-03 21:00:00'}, {'dt': 1685836800, 'main': {'temp': 289.72, 'feels_like': 289.21, 'temp_min': 289.72, 'temp_max': 289.72, 'pressure': 1012, 'sea_level': 1012, 'grnd_level': 1010, 'humidity': 68, 'temp_kf': 0}, 'weather': [{'id': 800, 'main': 'Clear', 'description': 'clear sky', 'icon': '01d'}], 'clouds': {'all': 10}, 'wind': {'speed': 5.81, 'deg': 260, 'gust': 7.05}, 'visibility': 10000, 'pop': 0, 'sys': {'pod': 'd'}, 'dt_txt': '2023-06-04 00:00:00'}], 'city': {'id': 5391959, 'name': 'San Francisco', 'coord': {'lat': 37.7749, 'lon': -122.4194}, 'country': 'US', 'population': 805235, 'timezone': -25200, 'sunrise': 1685364655, 'sunset': 1685417015}}\n"
          ]
        }
      ],
      "source": [
        "# Function Test:\n",
        "\n",
        "# Parameters:\n",
        "latitude = 37.7749\n",
        "longitude = -122.4194\n",
        "api_key = \"97e400f629132d5337dca365db0dc123\"\n",
        "\n",
        "# Forecast:\n",
        "forecast_data = get_weather_forecast(37.7749, -122.4194, \"97e400f629132d5337dca365db0dc123\")\n",
        "print(forecast_data)"
      ]
    },
    {
      "cell_type": "markdown",
      "metadata": {
        "id": "tFYdIZ0JEaTA"
      },
      "source": [
        "#### Changing data from JSON to a Pandas dataframe"
      ]
    },
    {
      "cell_type": "code",
      "execution_count": null,
      "metadata": {
        "id": "d7VFGQFcEdXl"
      },
      "outputs": [],
      "source": [
        "df = pd.json_normalize(data['list'])\n",
        "print(df)"
      ]
    },
    {
      "cell_type": "markdown",
      "metadata": {
        "id": "oQDSncoDFIhB"
      },
      "source": [
        "In summary, the temperature, weather conditions, wind information, cloud coverage, humidity, and visibility are the most useful pieces of information from the API data. Other fields, such as pressure, precipitation probability, and system-related details, may have limited relevance depending on the specific use case."
      ]
    },
    {
      "cell_type": "markdown",
      "metadata": {
        "id": "fD1k2IF6FcOK"
      },
      "source": [
        "# Create a function that produces a DataFrame with the weather for several cities, when given a list of cities as input."
      ]
    },
    {
      "cell_type": "code",
      "execution_count": null,
      "metadata": {
        "id": "RO0Rc5mgI5xX"
      },
      "outputs": [],
      "source": [
        "def get_weather_data(cities):\n",
        "    api_key = '97e400f629132d5337dca365db0dc123'                                # Replace with your OpenWeatherMap API key\n",
        "    url = 'https://api.openweathermap.org/data/2.5/weather'\n",
        "\n",
        "    data = {\n",
        "        'City': [],\n",
        "        'Temperature': [],\n",
        "        'Weather Conditions': [],\n",
        "        'Wind Information': [],\n",
        "        'Cloud Coverage': [],\n",
        "        'Humidity': [],\n",
        "        'Visibility': []\n",
        "    }\n",
        "\n",
        "    for city in cities:\n",
        "        params = {\n",
        "            'q': city,\n",
        "            'appid': api_key,\n",
        "            'units': 'metric'\n",
        "        }\n",
        "\n",
        "        try:\n",
        "            response = requests.get(url, params=params)\n",
        "            json_data = response.json()\n",
        "\n",
        "            # Extract weather data from the JSON response\n",
        "            temperature = json_data['main']['temp']\n",
        "            weather_conditions = json_data['weather'][0]['description']\n",
        "            wind_info = f\"{json_data['wind']['speed']} m/s\"\n",
        "            cloud_coverage = f\"{json_data['clouds']['all']}%\"\n",
        "            humidity = f\"{json_data['main']['humidity']}%\"\n",
        "            visibility = f\"{json_data['visibility'] / 1000} km\"\n",
        "\n",
        "            # Append the data to the dictionary\n",
        "            data['City'].append(city)\n",
        "            data['Temperature'].append(temperature)\n",
        "            data['Weather Conditions'].append(weather_conditions)\n",
        "            data['Wind Information'].append(wind_info)\n",
        "            data['Cloud Coverage'].append(cloud_coverage)\n",
        "            data['Humidity'].append(humidity)\n",
        "            data['Visibility'].append(visibility)\n",
        "        except:\n",
        "            print(f\"Failed to retrieve weather data for {city}\")\n",
        "\n",
        "    # Create a dataframe from the dictionary\n",
        "    df = pd.DataFrame(data)\n",
        "\n",
        "    return df"
      ]
    },
    {
      "cell_type": "code",
      "execution_count": null,
      "metadata": {
        "colab": {
          "base_uri": "https://localhost:8080/"
        },
        "id": "FRpWwgYqI8QD",
        "outputId": "b28cb75e-4751-4810-ca7f-4288255dbcb8"
      },
      "outputs": [
        {
          "name": "stdout",
          "output_type": "stream",
          "text": [
            "        City  Temperature Weather Conditions Wind Information Cloud Coverage  \\\n",
            "0   New York        17.47          clear sky         8.23 m/s             0%   \n",
            "1     London         9.14      broken clouds         3.09 m/s            75%   \n",
            "2     Sydney        17.22          clear sky         4.63 m/s             0%   \n",
            "3      Paris        14.60          clear sky          7.2 m/s             0%   \n",
            "4  Barcelona        17.38         few clouds         2.06 m/s            20%   \n",
            "5     Berlin         8.89          clear sky         1.03 m/s             0%   \n",
            "\n",
            "  Humidity Visibility  \n",
            "0      56%    10.0 km  \n",
            "1      81%    10.0 km  \n",
            "2      52%    10.0 km  \n",
            "3      64%    10.0 km  \n",
            "4      86%    10.0 km  \n",
            "5      78%    10.0 km  \n"
          ]
        }
      ],
      "source": [
        "# Example usage:\n",
        "cities = ['New York', 'London', 'Sydney', 'Paris', 'Barcelona', 'Berlin']\n",
        "weather_df = get_weather_data(cities)\n",
        "print(weather_df)"
      ]
    }
  ],
  "metadata": {
    "colab": {
      "provenance": []
    },
    "kernelspec": {
      "display_name": "Python 3",
      "name": "python3"
    },
    "language_info": {
      "name": "python"
    }
  },
  "nbformat": 4,
  "nbformat_minor": 0
}